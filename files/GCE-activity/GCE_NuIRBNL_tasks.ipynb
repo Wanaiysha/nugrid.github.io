{
  "cells": [
    {
      "cell_type": "markdown",
      "metadata": {
        "id": "kjyNhFlU4lIW"
      },
      "source": [
        "# Galactic Chemical Evolution Activity"
      ]
    },
    {
      "cell_type": "markdown",
      "metadata": {
        "id": "GmJemvZE4lIY"
      },
      "source": [
        "*Original author: B. Côté; modified by B. Világos and V. Hegedűs*\n",
        "\n",
        "In this notebook, you will use OMEGA+\n",
        "([Côté et al. 2018](http://adsabs.harvard.edu/abs/2018ApJ...859...67C)), a simple galactic chemical evolution code designed to connect nuclear astrophysics with astronomical observations.\n",
        "\n",
        "**Open-source Python packages**\n",
        "* [NuPyCEE](https://github.com/NuGrid/NuPyCEE) - NuGrid Python Chemical Evolution Environment\n",
        "* [JINAPyCEE](https://github.com/becot85/JINAPyCEE) - JINA Python Chemical Evolution Environment"
      ]
    },
    {
      "cell_type": "code",
      "source": [
        "# This will install OMEGA and OMEGA+.\n",
        "# Only run for the first time! If you accidentally run it more than once,\n",
        "# you will get an error, because OMEGA is already installed.\n",
        "# Ignore the error, it won't affect your installation.\n",
        "# If you use Google Colab, after some time of inactivity you may have to install it again.\n",
        "\n",
        "!git clone https://github.com/NuGrid/NuPyCEE.git\n",
        "!git clone https://github.com/becot85/JINAPyCEE.git"
      ],
      "metadata": {
        "id": "UpcETSmx4nmv"
      },
      "execution_count": null,
      "outputs": []
    },
    {
      "cell_type": "code",
      "execution_count": null,
      "metadata": {
        "id": "smvY0ZH04lIY"
      },
      "outputs": [],
      "source": [
        "# Import the OMEGA+ code and standard packages\n",
        "import matplotlib\n",
        "import matplotlib.pyplot as plt\n",
        "import numpy as np\n",
        "from JINAPyCEE import omega_plus\n",
        "from NuPyCEE import stellab\n",
        "%matplotlib inline"
      ]
    },
    {
      "cell_type": "markdown",
      "metadata": {
        "id": "nR9JJ9Zg4lIZ"
      },
      "source": [
        "# 1. Star Formation and Gas Reservoirs"
      ]
    },
    {
      "cell_type": "markdown",
      "metadata": {
        "id": "Cimxte-94lIZ"
      },
      "source": [
        "Here you will learn about the interplay between galactic inflows, star formation, and galactic outflows. The model consists of a galaxy surrounded by a large gas reservoir called the circumgalactic medium. The galaxy is composed of gas and stars. The model follows galactic inflows, representing the transfer of gas from the circumgalactic medium into the galaxy, as well as galactic outflows, representing the transfer of gas from the galaxy into the circumgalactic medium.\n",
        "\n",
        "The simulation will start with $1.56\\times10^{11}$ M$_\\odot$ of gas inside the circumgalactic medium. Once gas will be introduced inside the galaxy, stars will start to form.  The equation describing the rate of change of the mass of gas **inside** the galaxy is\n",
        "\n",
        "$$\\dot{M}_\\mathrm{gas,in} = \\dot{M}_\\mathrm{inflow} - \\dot{M}_\\star + \\dot{M}_\\mathrm{ej} - \\dot{M}_\\mathrm{outflow} \\mathrm{\\quad[M_\\odot/yr]}$$\n",
        "\n",
        "* $M_\\mathrm{gas,in}$: Mass of gas inside the galaxy.\n",
        "* $\\dot{M}_\\mathrm{inflow}$: Galactic inflow rate.\n",
        "* $\\dot{M}_\\star$: Star formation rate. Conversion of gas into stars.\n",
        "* $\\dot{M}_\\mathrm{ej}$: Stellar ejecta. Mass ejected by stars when they die (ex. supernova explosion).\n",
        "* $\\dot{M}_\\mathrm{outflow}$: Galactic outflow rate."
      ]
    },
    {
      "cell_type": "markdown",
      "metadata": {
        "id": "rriafUOF4lIZ"
      },
      "source": [
        "### Run a basic model\n",
        "Run the cell below to launch the model. **For now, simply run the model without changing the parameters**."
      ]
    },
    {
      "cell_type": "code",
      "execution_count": null,
      "metadata": {
        "jupyter": {
          "outputs_hidden": false
        },
        "id": "8kCkQZU44lIa"
      },
      "outputs": [],
      "source": [
        "# Star formation efficiency.\n",
        "# This is controling how fast the gas inside the galaxy is converted into stars.\n",
        "# You can vary this parameter between 0.001 and 0.05\n",
        "# (you can use values outside this range, but that is unphysical)\n",
        "sfe = 0.001\n",
        "\n",
        "# Galactic outflow rate.\n",
        "# You can vary this parameter between 0.0 and 5.0\n",
        "mass_loading = 0.0\n",
        "\n",
        "# !!Do not modify the following line!!\n",
        "# Run OMEGA+ with the first set of parameters\n",
        "o = omega_plus.omega_plus(sfe=sfe, mass_loading=mass_loading, special_timesteps=60, \\\n",
        "                          table='yield_tables/agb_and_massive_stars_K10_K06_0.5HNe.txt', \\\n",
        "                          t_inflow=5e9, t_star=1.0e8, f_halo_to_gal_out=0.0)"
      ]
    },
    {
      "cell_type": "markdown",
      "metadata": {
        "id": "mO8RpuKZ4lIa"
      },
      "source": [
        "### Extract the Information"
      ]
    },
    {
      "cell_type": "markdown",
      "source": [
        "The equation is solved in timesteps, step by step. You usually want to extract values from the arrays containing the properties of the galaxy that change in time (e.g. the mass of an isotope). Use the array you are interested in and give the index of the timestep that you want to have.\n",
        "\n",
        "You can extract the age of the galaxy for a specific timestep by calling the array **o.inner.history.age**. An example:\n",
        "\n",
        "\n",
        "\n"
      ],
      "metadata": {
        "id": "cJiKdO3sJXkz"
      }
    },
    {
      "cell_type": "code",
      "execution_count": null,
      "metadata": {
        "jupyter": {
          "outputs_hidden": false
        },
        "id": "hgWzZgFW4lIa",
        "outputId": "0e348461-2e7e-48bc-e261-5d2fe8705bda",
        "colab": {
          "base_uri": "https://localhost:8080/"
        }
      },
      "outputs": [
        {
          "output_type": "stream",
          "name": "stdout",
          "text": [
            "60\n"
          ]
        }
      ],
      "source": [
        "# The equations describing the evolution of the galaxy are solved step by step.\n",
        "\n",
        "# Age of the galaxy at each timestep [Gyr, billion of years].\n",
        "t_sim = o.inner.history.age[:-1]\n",
        "\n",
        "# Print the number of timesteps.\n",
        "print(o.inner.nb_timesteps)"
      ]
    },
    {
      "cell_type": "markdown",
      "source": [
        "The 'o' object that you ran in a cell above contains all the values of the OMEGA+ run. OMEGA+ uses OMEGA internally to run the evolution of the galaxy itself, then it treats the interaction with the outer gas reservoir.\n",
        "\n",
        "Generally, if you want to extract a number that is a property of the galaxy itself, you will use the values provided by OMEGA. You can access the values stored by OMEGA by calling **o.inner**. If you want to acces something related to the circumgalactic medium, you should just call **o**, because that is a value handled by OMEGA+ and the inner OMEGA doesn't know about that.\n",
        "\n",
        "Note that the arrays that contain some masses are usually 2D arrays, where the first index (a row) is the timestep, and the second index (a column) is corresponding to each isotope. If you want to treat the total mass, you should sum for all isotopes (sum the array on axis 1).\n",
        "\n",
        "**Here are some important arrays**:\n",
        "* Mass of isotopes in the gas inside the circumgalactic medium, for each timestep\n",
        "    * **o.ymgal_outer**[ timestep index ][ isotope index ]\n",
        "* Mass of isotopes in the gas inside the galaxy, for each timestep\n",
        "    * **o.inner.ymgal**[ timestep index ][ isotope index ]\n",
        "* Mass of gas converted into stars at each timestep (*this is not the total cumulated mass of stars*)\n",
        "    * **o.inner.history.m_locked**[ timestep index ]\n",
        "* Mass of isotopes ejected by stars at each timestep\n",
        "    * **o.inner.mdot**[ timestep index ][ isotope index ]"
      ],
      "metadata": {
        "id": "c1N_WDs1JbhG"
      }
    },
    {
      "cell_type": "code",
      "execution_count": null,
      "metadata": {
        "jupyter": {
          "outputs_hidden": false
        },
        "id": "88PA2RbR4lIb",
        "outputId": "8f83b399-b162-4c5c-d031-ad4c3c7d7f21",
        "colab": {
          "base_uri": "https://localhost:8080/"
        }
      },
      "outputs": [
        {
          "output_type": "stream",
          "name": "stdout",
          "text": [
            "Number of isotopes = 283\n",
            "List of isotopes = ['H-1', 'H-2', 'He-3', 'He-4', 'Li-6', 'Li-7', 'Be-9', 'B-10', 'B-11', 'C-12', 'C-13', 'N-14', 'N-15', 'O-16', 'O-17', 'O-18', 'F-19', 'Ne-20', 'Ne-21', 'Ne-22', 'Na-23', 'Mg-24', 'Mg-25', 'Mg-26', 'Al-27', 'Si-28', 'Si-29', 'Si-30', 'P-31', 'S-32', 'S-33', 'S-34', 'S-36', 'Cl-35', 'Cl-37', 'Ar-36', 'Ar-38', 'Ar-40', 'K-39', 'K-40', 'K-41', 'Ca-40', 'Ca-42', 'Ca-43', 'Ca-44', 'Ca-46', 'Ca-48', 'Sc-45', 'Ti-46', 'Ti-47', 'Ti-48', 'Ti-49', 'Ti-50', 'V-50', 'V-51', 'Cr-50', 'Cr-52', 'Cr-53', 'Cr-54', 'Mn-55', 'Fe-54', 'Fe-56', 'Fe-57', 'Fe-58', 'Co-59', 'Ni-58', 'Ni-60', 'Ni-61', 'Ni-62', 'Ni-64', 'Cu-63', 'Cu-65', 'Zn-64', 'Zn-66', 'Zn-67', 'Zn-68', 'Zn-70', 'Ga-69', 'Ga-71', 'Ge-70', 'Ge-72', 'Ge-73', 'Ge-74', 'Ge-76', 'As-75', 'Se-74', 'Se-76', 'Se-77', 'Se-78', 'Se-80', 'Se-82', 'Br-79', 'Br-81', 'Kr-78', 'Kr-80', 'Kr-82', 'Kr-83', 'Kr-84', 'Kr-86', 'Rb-85', 'Rb-87', 'Sr-84', 'Sr-86', 'Sr-87', 'Sr-88', 'Y-89', 'Zr-90', 'Zr-91', 'Zr-92', 'Zr-94', 'Zr-96', 'Nb-93', 'Mo-100', 'Mo-92', 'Mo-94', 'Mo-95', 'Mo-96', 'Mo-97', 'Mo-98', 'Ru-100', 'Ru-101', 'Ru-102', 'Ru-104', 'Ru-96', 'Ru-98', 'Ru-99', 'Rh-103', 'Pd-102', 'Pd-104', 'Pd-105', 'Pd-106', 'Pd-108', 'Pd-110', 'Ag-107', 'Ag-109', 'Cd-106', 'Cd-108', 'Cd-110', 'Cd-111', 'Cd-112', 'Cd-113', 'Cd-114', 'Cd-116', 'In-113', 'In-115', 'Sn-112', 'Sn-114', 'Sn-115', 'Sn-116', 'Sn-117', 'Sn-118', 'Sn-119', 'Sn-120', 'Sn-122', 'Sn-124', 'Sb-121', 'Sb-123', 'Te-120', 'Te-122', 'Te-123', 'Te-124', 'Te-125', 'Te-126', 'Te-128', 'Te-130', 'I-127', 'Xe-124', 'Xe-126', 'Xe-128', 'Xe-129', 'Xe-130', 'Xe-131', 'Xe-132', 'Xe-134', 'Xe-136', 'Cs-133', 'Ba-130', 'Ba-132', 'Ba-134', 'Ba-135', 'Ba-136', 'Ba-137', 'Ba-138', 'La-138', 'La-139', 'Ce-136', 'Ce-138', 'Ce-140', 'Ce-142', 'Pr-141', 'Nd-142', 'Nd-143', 'Nd-144', 'Nd-145', 'Nd-146', 'Nd-148', 'Nd-150', 'Sm-144', 'Sm-147', 'Sm-148', 'Sm-149', 'Sm-150', 'Sm-152', 'Sm-154', 'Eu-151', 'Eu-153', 'Gd-152', 'Gd-154', 'Gd-155', 'Gd-156', 'Gd-157', 'Gd-158', 'Gd-160', 'Tb-159', 'Dy-156', 'Dy-158', 'Dy-160', 'Dy-161', 'Dy-162', 'Dy-163', 'Dy-164', 'Ho-165', 'Er-162', 'Er-164', 'Er-166', 'Er-167', 'Er-168', 'Er-170', 'Tm-169', 'Yb-168', 'Yb-170', 'Yb-171', 'Yb-172', 'Yb-173', 'Yb-174', 'Yb-176', 'Lu-175', 'Lu-176', 'Hf-174', 'Hf-176', 'Hf-177', 'Hf-178', 'Hf-179', 'Hf-180', 'Ta-180', 'Ta-181', 'W-180', 'W-182', 'W-183', 'W-184', 'W-186', 'Re-185', 'Re-187', 'Os-184', 'Os-186', 'Os-187', 'Os-188', 'Os-189', 'Os-190', 'Os-192', 'Ir-191', 'Ir-193', 'Pt-190', 'Pt-192', 'Pt-194', 'Pt-195', 'Pt-196', 'Pt-198', 'Au-197', 'Hg-196', 'Hg-198', 'Hg-199', 'Hg-200', 'Hg-201', 'Hg-202', 'Hg-204', 'Tl-203', 'Tl-205', 'Pb-204', 'Pb-206', 'Pb-207', 'Pb-208', 'Bi-209']\n"
          ]
        }
      ],
      "source": [
        "# The mass of the two gas reservoirs is decomposed into isotopes.\n",
        "# To calculate the total mass, at each timestep, you must sum the mass of all isotopes\n",
        "\n",
        "# Print the number of isotopes.\n",
        "print('Number of isotopes =',o.inner.nb_isotopes)\n",
        "\n",
        "# Print the list of isotopes\n",
        "print('List of isotopes =',o.inner.history.isotopes)"
      ]
    },
    {
      "cell_type": "code",
      "execution_count": null,
      "metadata": {
        "jupyter": {
          "outputs_hidden": false
        },
        "id": "4DHrOmb34lIb",
        "colab": {
          "base_uri": "https://localhost:8080/"
        },
        "outputId": "dc3e4d15-ff20-4b92-b51e-3020a64be87b"
      },
      "outputs": [
        {
          "output_type": "stream",
          "name": "stdout",
          "text": [
            "2785282647.925115 Msun\n"
          ]
        }
      ],
      "source": [
        "# As an example, here is the mass of He-4 in the circumgalactic medium at the 3rd timestep\n",
        "i_step = 4\n",
        "i_isotope = o.inner.history.isotopes.index('He-4')\n",
        "print(o.ymgal_outer[i_step][i_isotope],'Msun')"
      ]
    },
    {
      "cell_type": "markdown",
      "metadata": {
        "id": "LNradPZA4lIc"
      },
      "source": [
        "### Task 1.a) Plotting the time evolution of masses\n",
        "In the cell below, create arrays for plotting the following quantities as a function of the age of the galaxy:\n",
        "* The total mass of gas in the circumgalactic medium (outside the galaxy)\n",
        "* The total mass of gas inside galaxy\n",
        "* The total mass of stars\n",
        "    * **Warning!** You will need to account the mass ejected by stars.\n",
        "    * m_star =  total_mass_of_stars_formed - total_mass_ejected_by_stars\n",
        "\n",
        "Then, in the next cell, check that you filled the arrays correctly. You need to make sure the total mass is conserved (because now the mass loading is 0, we should not lose any mass from the simulation). The three components of masses listed above are the all forms of masses within the simulation.\n",
        "The total amount of matter should be the same (within 10% error) from one timestep to another.\n",
        "\n",
        "Then plot the arrays as a function of time."
      ]
    },
    {
      "cell_type": "code",
      "execution_count": null,
      "metadata": {
        "jupyter": {
          "outputs_hidden": false
        },
        "id": "I0Xo2PKf4lIc"
      },
      "outputs": [],
      "source": [
        "# Declaration of the arrays\n",
        "m_gas_circumgalactic = np.zeros(o.inner.nb_timesteps) # [M_sun]\n",
        "m_gas_galaxy = np.zeros(o.inner.nb_timesteps) # [M_sun]\n",
        "m_star = np.zeros(o.inner.nb_timesteps) # [M_sun]\n",
        "\n",
        "###\n",
        "### Fill the arrays ###\n",
        "###\n",
        "\n",
        "#for i_step in range(o.inner.nb_timesteps):\n",
        "    # ..."
      ]
    },
    {
      "cell_type": "code",
      "execution_count": null,
      "metadata": {
        "jupyter": {
          "outputs_hidden": false
        },
        "id": "sjJc4v9A4lIc"
      },
      "outputs": [],
      "source": [
        "###\n",
        "### Fill this cell: mass conservation ###\n",
        "###"
      ]
    },
    {
      "cell_type": "code",
      "execution_count": null,
      "metadata": {
        "jupyter": {
          "outputs_hidden": false
        },
        "id": "_7cxdwQA4lIc"
      },
      "outputs": [],
      "source": [
        "plt.plot(t_sim, m_gas_circumgalactic)\n",
        "plt.plot(t_sim, m_gas_galaxy)\n",
        "plt.plot(t_sim, m_star)\n",
        "\n",
        "###\n",
        "### Add legend and axis labels\n",
        "###"
      ]
    },
    {
      "cell_type": "markdown",
      "metadata": {
        "id": "1SOguw334lIc"
      },
      "source": [
        "### Task 1.b) Experiment with the input parameters\n",
        "Now that you have a plotting routine that shows you the evolution of masses, you can start discovering how the different input parameters will change the results in time. Write down a few sentences about your conclusions in each case.\n",
        "\n",
        "I) Re-run the model with star formation switched on.\n",
        "* Explore different \"sfe\" values between 0.001 and 0.05 (re-run OMEGA+, see above).\n",
        "* Understand the role of star formation, and try to predict what will happen when you change \"sfe\"."
      ]
    },
    {
      "cell_type": "markdown",
      "source": [
        "*Put your answer here:*"
      ],
      "metadata": {
        "id": "rbsBUIOWP3ie"
      }
    },
    {
      "cell_type": "markdown",
      "source": [
        "II) Re-run the model with star formation and galactic outflows switched on.\n",
        "* Set \"sfe = 0.01\"\n",
        "* Explore different \"mass_loading\" values between 1.0 and 5.0.\n",
        "* Understand the role of galactic outflows, and try to predict what will happen when you change \"mass_loading\"."
      ],
      "metadata": {
        "id": "hfNzCcF4P9oe"
      }
    },
    {
      "cell_type": "markdown",
      "source": [
        "*Put your answer here:*"
      ],
      "metadata": {
        "id": "P2vYq3UwQAg_"
      }
    },
    {
      "cell_type": "markdown",
      "source": [
        "III) Try to find a set of parameters that respect the following criteria:\n",
        "* About $6 \\cdot 10^{10}$ M$_\\odot$ of stars formed.\n",
        "* The mass of the circumgalactic medium must be larger than $6 \\cdot 10^{10}$ M$_\\odot$."
      ],
      "metadata": {
        "id": "yUlPh0hxQDT6"
      }
    },
    {
      "cell_type": "markdown",
      "source": [
        "*Put your answer here:*"
      ],
      "metadata": {
        "id": "hN00-1W5QFHA"
      }
    },
    {
      "cell_type": "markdown",
      "metadata": {
        "id": "pt4NgTWl4lIc"
      },
      "source": [
        "# 2. Calibration of the Milky Way Model"
      ]
    },
    {
      "cell_type": "markdown",
      "metadata": {
        "id": "WwXM65cP4lIc"
      },
      "source": [
        "Here you will calibrate your simple Milky Way model against observational constraints. These observed properties of the Milky Way are the following:\n",
        "* **Total stellar mass formed**: this is the mass of the stars that we currently see in the Milky Way. We want to reproduce this by the end of the simulation.\n",
        "* **Final star formation rate**: this is the star formation rate that we see today in the Milky Way.\n",
        "* **Composition at the birth of the Sun**: We know the composition of the Sun well. The Sun formed from the gas 4.6 Gyr ago, we therefore can use the Sun as a guideline for the composition of the gas at that epoch.\n",
        "\n",
        "You only need to work with 2 parameters (star formation and galactic inflows). You need to vary the parameters until you respect all 3 observational constraints. You will then use this calibrated model to investigate the origin of the elements in our galaxy.\n",
        "\n",
        "**Useful information to help you calibrate your model**\n",
        "* The star formation efficiency (sfe) mostly affects [Fe/H].\n",
        "* The amount of galactic inflows (in_mag) mostly affect the total stellar mass formed.\n",
        "\n",
        "### Task 2): Calibrate the Milky Way model\n",
        "Find the best set of parameters that reproduce the observables, using the cells below. Briefly explain what effects the different input parameters have on the results."
      ]
    },
    {
      "cell_type": "markdown",
      "source": [
        "*Explanation:*"
      ],
      "metadata": {
        "id": "whCuD-b0VGHk"
      }
    },
    {
      "cell_type": "markdown",
      "metadata": {
        "id": "07VwcTuy4lIc"
      },
      "source": [
        "#### Run your model"
      ]
    },
    {
      "cell_type": "code",
      "execution_count": null,
      "metadata": {
        "jupyter": {
          "outputs_hidden": false
        },
        "id": "pSvXX8jQ4lId"
      },
      "outputs": [],
      "source": [
        "# Star formation efficiency.\n",
        "# This is controling how fast the gas inside the galaxy is converted into stars.\n",
        "# You can vary this parameter between 0.005 and 0.05\n",
        "sfe = 0.005\n",
        "\n",
        "# Magnitude (strength) of the galactic inflow rate.\n",
        "# A higher \"in_mag\" value means more inflows.\n",
        "# You can vary this parameter between 0.5 and 2.0\n",
        "in_mag = 0.5\n",
        "\n",
        "# !!Do not modify the following line!!\n",
        "# Run OMEGA+ with the first set of parameters\n",
        "o_mw = omega_plus.omega_plus(sfe=sfe, t_star=1.0e8, special_timesteps=90, \\\n",
        "                 exp_infall=[[in_mag*40, 0.0, 0.8e9], [in_mag*5, 1.0e9, 7.0e9]], \\\n",
        "                 table='yield_tables/agb_and_massive_stars_K10_K06_0.5HNe.txt', \\\n",
        "                 mass_loading=0.5, imf_yields_range=[1,40])"
      ]
    },
    {
      "cell_type": "markdown",
      "metadata": {
        "id": "1x0qXbf64lId"
      },
      "source": [
        "#### Constraint #1 - Total stellar mass formed\n",
        "Your model should form in total in between $4.5\\times10^{10}$ and $5.0\\times10^{10}$ M$_\\odot$ of stars."
      ]
    },
    {
      "cell_type": "code",
      "execution_count": null,
      "metadata": {
        "jupyter": {
          "outputs_hidden": false
        },
        "id": "kV_DH81v4lId"
      },
      "outputs": [],
      "source": [
        "# Print the total stellar mass formed\n",
        "print(\"Total stellar mass formed:\",'%.2e'%sum(o_mw.inner.history.m_locked),'M_sun')"
      ]
    },
    {
      "cell_type": "markdown",
      "metadata": {
        "id": "jWyVFXIw4lId"
      },
      "source": [
        "#### Constraint #2 - Final star formation rate\n",
        "The final star formation rate (SFR) of your model should be within the cyan/blue vertical band (in between 0.6 and 3.0 M$_\\odot$/yr)."
      ]
    },
    {
      "cell_type": "code",
      "execution_count": null,
      "metadata": {
        "jupyter": {
          "outputs_hidden": false
        },
        "id": "f_5aKgYQ4lId"
      },
      "outputs": [],
      "source": [
        "# Plot the evolution of the star formation rate (SFR)\n",
        "o_mw.inner.plot_star_formation_rate(color='r', marker='o', label='My model')\n",
        "plt.xlabel('Galactic age [yr]')\n",
        "\n",
        "# Plot the observational constraint (cyan color)\n",
        "plt.plot([13e9,13e9], [0.65,3.0], linewidth=6, color='c', alpha=0.5)"
      ]
    },
    {
      "cell_type": "markdown",
      "metadata": {
        "id": "MS-fw2034lId"
      },
      "source": [
        "#### Constraint #3 - Solar value [Fe/H=0] by the time the Sun forms\n",
        "Your prediction needs to go through the intersection between the horizontal and vertical dotted lines, that marks the composition of the Sun.\n",
        "\n",
        "This is using the following spectroscopic notation,\n",
        "\n",
        "$$\\mathrm{[Fe/H]}=\\log(n_\\mathrm{Fe}/n_\\mathrm{H})-\\log(n_\\mathrm{Fe}/n_\\mathrm{H})_\\odot$$\n",
        "\n",
        "where n_X is the number density of the element X. [X/Y] ratios, where X and Y can be any elements, are expressed in log-space and are normalized to the solar composition."
      ]
    },
    {
      "cell_type": "code",
      "execution_count": null,
      "metadata": {
        "jupyter": {
          "outputs_hidden": false
        },
        "id": "gWqHmoSb4lId"
      },
      "outputs": [],
      "source": [
        "# Plot the evolution of [Fe/H], the iron abundance of the gas inside the galaxy.\n",
        "o_mw.inner.plot_spectro(color='r', marker='o', label='My model')\n",
        "plt.xlabel('Galactic age [yr]')\n",
        "plt.ylim(-2,1)\n",
        "\n",
        "# Plot the solar value (black dotted lines)\n",
        "t_Sun = 13.0e9 - 4.6e9\n",
        "plt.plot([t_Sun,t_Sun], [-2,1], ':k')\n",
        "plt.plot([0,13e9], [0,0], ':k')"
      ]
    },
    {
      "cell_type": "markdown",
      "metadata": {
        "id": "95gQQLUK4lId"
      },
      "source": [
        "# 3. Contribution of Different Enrichment Sources"
      ]
    },
    {
      "cell_type": "markdown",
      "metadata": {
        "id": "yRTbMdQ44lId"
      },
      "source": [
        "Now that you have a first calibration of your Milky Way model, you can start looking at the evolution of the elements (and also isotopes if you want). This plot will be a useful test for later tasks."
      ]
    },
    {
      "cell_type": "markdown",
      "metadata": {
        "id": "-pIb2C7C4lId"
      },
      "source": [
        "### Select your element (or isotope)"
      ]
    },
    {
      "cell_type": "code",
      "execution_count": null,
      "metadata": {
        "jupyter": {
          "outputs_hidden": false
        },
        "id": "Qz6IzlR04lId"
      },
      "outputs": [],
      "source": [
        "# Target element (or isotope)\n",
        "# Element nomenclature: First letter in capital. e.g., C, N, O, Mg, ..\n",
        "# Isotope nomenclature: O-16, Fe-56, ..\n",
        "specie = 'N'\n",
        "\n",
        "# Verify that the target specie is available\n",
        "if specie in o_mw.inner.history.elements or specie in o.inner.history.isotopes:\n",
        "    print('The element/isotope is available.')\n",
        "else:\n",
        "    print('Error - The element/isotope IS NOT available, please select a new one.')"
      ]
    },
    {
      "cell_type": "markdown",
      "metadata": {
        "id": "oIQt4Teg4lId"
      },
      "source": [
        "### Plot the evolution of the selected element\n",
        "This will show the mass of the element in form of gas **inside the galaxy**. It will also tell you which type of astronomical events produce the most of this element (or isotope) in the Milky Way galaxy."
      ]
    },
    {
      "cell_type": "code",
      "execution_count": null,
      "metadata": {
        "jupyter": {
          "outputs_hidden": false
        },
        "id": "Fqs6TwdR4lId"
      },
      "outputs": [],
      "source": [
        "o_mw.inner.plot_mass(specie=specie, source='massive', label='Massive stars')\n",
        "o_mw.inner.plot_mass(specie=specie, source='agb', label='Low-mass stars')\n",
        "o_mw.inner.plot_mass(specie=specie, source='sn1a', label='Type Ia supernovae')\n",
        "o_mw.inner.plot_mass(specie=specie, label='Total mass')\n",
        "plt.xlabel('Galactic age [yr]')\n",
        "plt.ylabel('Mass of '+specie)\n",
        "#plt.xscale('linear')\n",
        "#plt.ylim(1e3,6e7)"
      ]
    },
    {
      "cell_type": "markdown",
      "source": [
        "### Task 3): Experiment with the evolution of elements\n",
        "\n",
        "Try out different elements and see what contributions they have from different sources over time. Does it fit well into your knowledge about GCE?\n",
        "\n",
        "Tip: the second periodic table in the lecture may be useful."
      ],
      "metadata": {
        "id": "3Ar-ru55eWMZ"
      }
    },
    {
      "cell_type": "markdown",
      "metadata": {
        "id": "4bsUWAQg4lIe"
      },
      "source": [
        "# 4. Chemical Evolution Trends of Abundances"
      ]
    },
    {
      "cell_type": "markdown",
      "metadata": {
        "id": "A2KCOi0D4lIe"
      },
      "source": [
        "Here you are comparing your Milky Way model against observations of stellar abundances, using the STELLAB library.\n",
        "\n",
        "You can investigate the evolution of elemental ratios as a function of time (or rather as a function of [Fe/H]) throughout the history of the Milky Way. Stars formed at different epochs, with different [Fe/H], and preserve the current composition of the gas at that time.\n",
        "\n",
        "You see an example of such a plot below, showing [Ca/Fe] as a function of [Fe/H]."
      ]
    },
    {
      "cell_type": "code",
      "execution_count": null,
      "metadata": {
        "collapsed": true,
        "jupyter": {
          "outputs_hidden": true
        },
        "id": "tB4HxiRg4lIe"
      },
      "outputs": [],
      "source": [
        "# Load the stellar abundance data\n",
        "s = stellab.stellab()\n",
        "\n",
        "# Create a list of reference observational papers.\n",
        "obs = ['stellab_data/milky_way_data/Cohen_et_al_2013_stellab',\\\n",
        "       'stellab_data/milky_way_data/Jacobson_et_al_2015_stellab',\\\n",
        "       'stellab_data/milky_way_data/Venn_et_al_2004_stellab',\\\n",
        "       'stellab_data/milky_way_data/Bensby_et_al_2014_stellab',\\\n",
        "       'stellab_data/milky_way_data/Nissen_et_al_2014_stellab',\\\n",
        "       'stellab_data/milky_way_data/Battistini_Bensby_2015_stellab',\\\n",
        "       'stellab_data/milky_way_data/Battistini_Bensby_2016_stellab']"
      ]
    },
    {
      "cell_type": "code",
      "execution_count": null,
      "metadata": {
        "jupyter": {
          "outputs_hidden": false
        },
        "id": "BxiuhpBG4lIe"
      },
      "outputs": [],
      "source": [
        "# Select your abundance ratios.\n",
        "xaxis = '[Fe/H]'\n",
        "yaxis = '[Ca/Fe]'\n",
        "\n",
        "# Plot data using your selection of data points\n",
        "s.plot_spectro(xaxis=xaxis, yaxis=yaxis, norm='Asplund_et_al_2009', obs=obs)\n",
        "\n",
        "# Extract the numerical prediction of OMEGA+ using the \"return_x_y\" argument.\n",
        "xy_o = o_mw.inner.plot_spectro(xaxis=xaxis, yaxis=yaxis, return_x_y=True, solar_norm='Asplund_et_al_2009')\n",
        "plt.plot(xy_o[0], xy_o[1], color='w', linewidth=3.0)\n",
        "plt.plot(xy_o[0], xy_o[1], color='k', linewidth=1.5, label='Your model')\n",
        "\n",
        "# Set the range of the x and y axis\n",
        "plt.legend(loc='center left', bbox_to_anchor=(1.01, 0.5), markerscale=0.8, fontsize=14)\n",
        "plt.xlim(-4.5,0.75)\n",
        "plt.ylim(-1.0,1.)"
      ]
    },
    {
      "cell_type": "markdown",
      "metadata": {
        "id": "i2vAKQcJ4lIe"
      },
      "source": [
        "### Task 4): Understanding abundance behaviours"
      ]
    },
    {
      "cell_type": "markdown",
      "source": [
        "4.a) Understand why **[Mg/Fe]-vs-[Fe/H]** is bending down and decreasing at [Fe/H] > -1.\n",
        "* The analysis plots shown in the previous sections will be useful.\n"
      ],
      "metadata": {
        "id": "60ZJrQEUerQU"
      }
    },
    {
      "cell_type": "code",
      "execution_count": null,
      "metadata": {
        "collapsed": true,
        "jupyter": {
          "outputs_hidden": true
        },
        "id": "9VizH7U84lIe"
      },
      "outputs": [],
      "source": [
        "# Make your plots and analysis here\n",
        "# Also write you answers"
      ]
    },
    {
      "cell_type": "markdown",
      "source": [
        "4.b) Understand why **[C/O]-vs-[Fe/H]** is increasing at [Fe/H] > -2.\n",
        "* Don't worry too much if the fit is not perfect."
      ],
      "metadata": {
        "id": "OgzgPmUddiCa"
      }
    },
    {
      "cell_type": "code",
      "execution_count": null,
      "metadata": {
        "collapsed": true,
        "jupyter": {
          "outputs_hidden": true
        },
        "id": "jU5Mo9l6drF4"
      },
      "outputs": [],
      "source": [
        "# Make your plots and analysis here\n",
        "# Also write you answers"
      ]
    },
    {
      "cell_type": "markdown",
      "source": [
        "4.c) Understand why **[Ca/Si]-vs-[Fe/H]** is increasing at [Fe/H] > -2.\n",
        "* Don't worry too much if the fit is not perfect."
      ],
      "metadata": {
        "id": "fn6pdY3BduSc"
      }
    },
    {
      "cell_type": "code",
      "execution_count": null,
      "metadata": {
        "collapsed": true,
        "jupyter": {
          "outputs_hidden": true
        },
        "id": "lMY9Sqh2drXT"
      },
      "outputs": [],
      "source": [
        "# Make your plots and analysis here\n",
        "# Also write you answers"
      ]
    },
    {
      "cell_type": "markdown",
      "source": [
        "4.d) Can you explain why **[Ti/Fe]-vs-[Fe/H]** does not fit?\n",
        "* By only looking at the observed data, can you guess in which stars Ti should be produced?"
      ],
      "metadata": {
        "id": "lUS4eD85dv_W"
      }
    },
    {
      "cell_type": "code",
      "execution_count": null,
      "metadata": {
        "collapsed": true,
        "jupyter": {
          "outputs_hidden": true
        },
        "id": "weetmP65drgZ"
      },
      "outputs": [],
      "source": [
        "# Make your plots and analysis here\n",
        "# Also write you answers"
      ]
    },
    {
      "cell_type": "markdown",
      "metadata": {
        "id": "Vkj4oTgD4lIe"
      },
      "source": [
        "# 5. The Origin of \"Light\" Elements in our Solar System"
      ]
    },
    {
      "cell_type": "markdown",
      "metadata": {
        "id": "HUJFD6LN4lIf"
      },
      "source": [
        "Besides stellar abundances data, the abundance distribution of the Sun can be used to understand the origin of the elements. The solar composition represents only one timeframe in the history of the Milky Way, but the advantage is that there is data for all the stable elements and isotopes. Here you will compare your chemical evolution predictions with the solar composition.\n",
        "\n",
        "You will import the solar abundances as measured spectroscopically. The read-in of the data is handled in a separate script. You should run the script with the cell below. **Important: read the comments in the cell, the execution depends on what machine you run the notebook.**\n",
        "\n",
        "The script will provide you with the array 'solar_Z' and 'solar_ab'. 'solar_Z' contains the atomic number Z of all elements measured in the Sun, while 'solar_ab' lists the corresponding abundances (in mass fraction).\n",
        "\n",
        "The script also contains a function that helps you to extract the different sources for an element from your simulation. You can call it with 'get_individual_sources', an example will be shown below."
      ]
    },
    {
      "cell_type": "code",
      "execution_count": null,
      "metadata": {
        "collapsed": true,
        "jupyter": {
          "outputs_hidden": true
        },
        "id": "KJ79zk9P4lIf"
      },
      "outputs": [],
      "source": [
        "# Load the functions for extracting abundances distributions.\n",
        "# You will need to load a script for this.\n",
        "\n",
        "# If you run the notebook in Colab, upload the script and Lodders_et_al_2009.txt\n",
        "# to your Drive, into the Colab Notebooks folder, then execute the cell like this.\n",
        "from google.colab import drive\n",
        "drive.mount('/content/gdrive')\n",
        "!cp gdrive/My\\ Drive/Colab\\ Notebooks/script_solar_ab.py .\n",
        "!cp gdrive/My\\ Drive/Colab\\ Notebooks/Lodders_et_al_2009.txt .\n",
        "\n",
        "# If you run the notebook on you machine, you only need the line below.\n",
        "# BUT: don't forget to place the files script_solar_ab.py and\n",
        "# Lodders_et_al_2009.txt in the folder in which you are running the notebook!\n",
        "# Comment the lines above in this cell.\n",
        "%run script_solar_ab.py"
      ]
    },
    {
      "cell_type": "markdown",
      "metadata": {
        "id": "Bn0cK5UG4lIf"
      },
      "source": [
        "## 5.1 The Role of Type Ia Supernovae"
      ]
    },
    {
      "cell_type": "markdown",
      "metadata": {
        "id": "lMstetfm4lIf"
      },
      "source": [
        "Here you will vary the number of Type Ia Supernovae until you match the solar composition. Keep in mind that Type Ia Supernovae mostly produce iron and other iron-group elements (e.g. Fe, Co, Ni)."
      ]
    },
    {
      "cell_type": "markdown",
      "metadata": {
        "id": "JQrN5kdr4lIf"
      },
      "source": [
        "### Run the model"
      ]
    },
    {
      "cell_type": "code",
      "execution_count": null,
      "metadata": {
        "jupyter": {
          "outputs_hidden": false
        },
        "id": "hnwaygxA4lIf"
      },
      "outputs": [],
      "source": [
        "# Number of Type Ia supernova per units of stellar mass formed.\n",
        "# You can vary this parameters between 1.0e-4 and 1.0e-1\n",
        "nb_1a_per_m = 1e-1\n",
        "\n",
        "# Run OMEGA+ with your set of parameters (simple Milky Way model).\n",
        "o_51 = omega_plus.omega_plus(sfe=sfe, t_star=1.0e8, special_timesteps=120, \\\n",
        "                 exp_infall=[[in_mag*40, 0.0, 0.8e9], [in_mag*5, 1.0e9, 7.0e9]], \\\n",
        "                 table='yield_tables/agb_and_massive_stars_K10_K06_0.5HNe.txt', \\\n",
        "                 mass_loading=0.5, imf_yields_range=[1,40], nb_1a_per_m=nb_1a_per_m)"
      ]
    },
    {
      "cell_type": "code",
      "execution_count": null,
      "metadata": {
        "jupyter": {
          "outputs_hidden": false
        },
        "id": "wG1nZ02_4lIf"
      },
      "outputs": [],
      "source": [
        "###\n",
        "### Fill the cell ###\n",
        "###\n",
        "\n",
        "# Write a script to find the timestep where the Sun should form.\n",
        "# You need to look in the metallicity array and find the timestep\n",
        "# index where the metallicity is the closest to the solar value (0.014).\n",
        "# Don't find it by hand, write a script to find it.\n",
        "#\n",
        "# Metallicity array --> o_51.inner.history.metallicity[ timestep index ]\n",
        "\n",
        "# Timestep index where the Sun should aproximately form.\n",
        "# i_t_Sun = place your index here"
      ]
    },
    {
      "cell_type": "code",
      "execution_count": null,
      "metadata": {
        "collapsed": true,
        "jupyter": {
          "outputs_hidden": true
        },
        "id": "cvgGzRWM4lIf"
      },
      "outputs": [],
      "source": [
        "# Get source contributions.\n",
        "# This will use the i_t_Sun parameter found in the previous cell.\n",
        "m_el_all, m_el_agb, m_el_massive, m_el_sn1a, m_el_nsm = \\\n",
        "    get_individual_sources(o_51.inner, i_step_sol=i_t_Sun)"
      ]
    },
    {
      "cell_type": "markdown",
      "metadata": {
        "id": "mGKYky0m4lIf"
      },
      "source": [
        "### Plot the abundance distribution\n",
        "You do not need to change anything in the cell below.\n",
        "\n",
        "The plot will show you the mass fractions of the different elements in the Sun, as well as in your simulation. You can see the total mass fraction of your simulation as well as the contribution from different sources."
      ]
    },
    {
      "cell_type": "code",
      "execution_count": null,
      "metadata": {
        "jupyter": {
          "outputs_hidden": false
        },
        "id": "rdJ8LnA54lIg"
      },
      "outputs": [],
      "source": [
        "# Define the figure size\n",
        "fig = plt.figure(figsize=(8,4.0))\n",
        "matplotlib.rcParams.update({'font.size': 14.0})\n",
        "\n",
        "# Plot solar abundance data\n",
        "plt.plot(solar_Z, solar_ab, color='k', marker='o', linewidth=4, alpha=0.5, label='Solar')\n",
        "\n",
        "# All sources combined\n",
        "plt.plot(Z_charge, m_el_all, color='orange', label='All sources', alpha=1.0, linestyle='-', linewidth=2)\n",
        "\n",
        "# Type Ia supernovae\n",
        "plt.plot(Z_charge, m_el_sn1a, color='g', label='SNe Ia', alpha=0.8, linestyle='-', marker='s')\n",
        "\n",
        "# Massive stars (core-collapse supernovae)\n",
        "plt.plot(Z_charge, m_el_massive, color='b', label='Massive', alpha=0.8, linestyle='-', marker='^')\n",
        "\n",
        "# Add element annotations\n",
        "for i in range(0,nb_elements):\n",
        "    plt.annotate(elements[i], xy=(solar_Z[i],yy[i]), color='k',\\\n",
        "                 fontsize=13, ha='center', va='center')\n",
        "\n",
        "# Label and axis\n",
        "plt.legend(fontsize=13, loc='center left', bbox_to_anchor=(1, 0.5))\n",
        "plt.xlabel('Z (charge number)', fontsize=16)\n",
        "plt.ylabel('X (mass fraction)', fontsize=16)\n",
        "plt.xlim(19.5,30.5)\n",
        "plt.ylim(1e-9,3e-1)\n",
        "plt.yscale('log')\n",
        "\n",
        "# Frame tuning\n",
        "plt.subplots_adjust(top=0.95)\n",
        "plt.subplots_adjust(right=0.75)\n",
        "plt.subplots_adjust(left=0.15)\n",
        "plt.subplots_adjust(bottom=0.14)"
      ]
    },
    {
      "cell_type": "markdown",
      "metadata": {
        "id": "3pcz9j_u4lIg"
      },
      "source": [
        "### Task 5): Reproduce the solar iron-peak elements\n",
        "5.a) Modify the number of Type Ia supernovae in your model until your reproduce the solar composition for **Fe, Co, and Ni**."
      ]
    },
    {
      "cell_type": "markdown",
      "source": [
        "5.b) How many Type Ia supernovae you need in total in the Milky Way to have enough Fe, Co, and Ni?\n",
        "* The number of Type Ia supernovae occuring during each timestep is stored in the following array: **o_51.inner.history.sn1a_numbers**[ timestep index ]"
      ],
      "metadata": {
        "id": "BOp0TA82omH4"
      }
    },
    {
      "cell_type": "code",
      "source": [
        "# Add your code and solution here."
      ],
      "metadata": {
        "id": "XM1vHYRiozbP"
      },
      "execution_count": null,
      "outputs": []
    },
    {
      "cell_type": "markdown",
      "source": [
        "5.c) How well do the other elements fit? What process should be adjusted in the simulation, in your opinion, and why?"
      ],
      "metadata": {
        "id": "NTxDadBmoonv"
      }
    },
    {
      "cell_type": "markdown",
      "source": [
        "*Answer:*"
      ],
      "metadata": {
        "id": "lgeRyvdWo3tl"
      }
    },
    {
      "cell_type": "markdown",
      "metadata": {
        "id": "Jnu7Oszs4lIg"
      },
      "source": [
        "# 6. The Origin of Neutron-Capture Elements in our Solar System"
      ]
    },
    {
      "cell_type": "markdown",
      "metadata": {
        "collapsed": true,
        "jupyter": {
          "outputs_hidden": true
        },
        "id": "jN1K_pob4lIg"
      },
      "source": [
        "In the following, you will assume that neutron star mergers are the only source of r-process elements in the Milky Way.  This may not be true, as core-collapse supernovae from massive stars could also contribute."
      ]
    },
    {
      "cell_type": "code",
      "execution_count": null,
      "metadata": {
        "jupyter": {
          "outputs_hidden": false
        },
        "id": "5X9aypdh4lIg"
      },
      "outputs": [],
      "source": [
        "# Number of neutron star mergers per units of stellar mass formed.\n",
        "# You can vary this parameters between 1.0e-6 and 1.0e-4\n",
        "nb_nsm_per_m = 1.0e-6\n",
        "\n",
        "# Run OMEGA+ with your set of parameters (simple Milky Way model).\n",
        "r_process_yields = 'yield_tables/r_process_arnould_2007.txt'\n",
        "o_6 = omega_plus.omega_plus(sfe=sfe, t_star=1.0e8, special_timesteps=120, \\\n",
        "                 exp_infall=[[in_mag*40, 0.0, 0.8e9], [in_mag*5, 1.0e9, 7.0e9]], \\\n",
        "                 mass_loading=0.5, imf_yields_range=[1,40], nb_1a_per_m=nb_1a_per_m, \\\n",
        "                 ns_merger_on=True, nb_nsm_per_m=nb_nsm_per_m, t_nsm_coal=1.0e8, \\\n",
        "                 nsmerger_table=r_process_yields)\n",
        "\n",
        "# Get source contributions (this needs to be right after running OMEGA+)\n",
        "m_el_all_6, m_el_agb_6, m_el_massive_6, m_el_sn1a_6, m_el_nsm_6 = \\\n",
        "    get_individual_sources(o_6.inner, i_step_sol=i_t_Sun)"
      ]
    },
    {
      "cell_type": "code",
      "execution_count": null,
      "metadata": {
        "jupyter": {
          "outputs_hidden": false
        },
        "id": "rk23d1t24lIg"
      },
      "outputs": [],
      "source": [
        "# Define the figure size\n",
        "fig = plt.figure(figsize=(8,4.0))\n",
        "matplotlib.rcParams.update({'font.size': 14.0})\n",
        "\n",
        "# Plot solar abundance data\n",
        "plt.plot(solar_Z, solar_ab, color='k', marker='o', linewidth=4, alpha=0.5, label='Solar')\n",
        "\n",
        "# All sources combined\n",
        "plt.plot(Z_charge, m_el_all_6, color='orange', label='All sources', alpha=1.0, linestyle='-', linewidth=2)\n",
        "\n",
        "# AGB stars\n",
        "plt.plot(Z_charge, m_el_agb_6, color='r', label='AGB', alpha=0.8, linestyle='-', marker='x')\n",
        "\n",
        "# Neutron star mergers (r-process)\n",
        "plt.plot(Z_charge, m_el_nsm_6, color='c', label='NS mergers', alpha=0.8, linestyle='-', marker='^')\n",
        "\n",
        "# Add element annotations\n",
        "for i in range(0,nb_elements):\n",
        "    plt.annotate(elements[i], xy=(solar_Z[i],yy[i]), color='k',\\\n",
        "                 fontsize=13, ha='center', va='center')\n",
        "\n",
        "# Label and axis\n",
        "plt.legend(fontsize=13, frameon=False)\n",
        "plt.xlabel('Z (charge number)', fontsize=16)\n",
        "plt.ylabel('X (mass fraction)', fontsize=16)\n",
        "plt.xlim(30.5,82.5)\n",
        "plt.ylim(1e-11,1e-4)\n",
        "plt.yscale('log')\n",
        "\n",
        "# Frame tuning\n",
        "plt.subplots_adjust(top=0.95)\n",
        "plt.subplots_adjust(right=0.95)\n",
        "plt.subplots_adjust(left=0.15)\n",
        "plt.subplots_adjust(bottom=0.14)"
      ]
    },
    {
      "cell_type": "markdown",
      "metadata": {
        "id": "ei2GLdpP4lIg"
      },
      "source": [
        "### Task 6): Adjust neutron star mergers\n",
        "6.a) Modify the number of neutron star merger in your model until your reproduce the solar composition for **Te, I, Xe, Os, Ir, Pt, and Au**.  "
      ]
    },
    {
      "cell_type": "markdown",
      "source": [
        "6.b) How many neutron star merger you need in total in the Milky Way to have enough gold (Au)?\n",
        "* The number of neutron star merger occuring during each timestep is stored in the following array: **o_6.inner.history.nsm_numbers**[ timestep index ]"
      ],
      "metadata": {
        "id": "M8l9w2oqp-li"
      }
    },
    {
      "cell_type": "code",
      "source": [
        "# Add your code and solution here."
      ],
      "metadata": {
        "id": "C8mT-SmEqFva"
      },
      "execution_count": null,
      "outputs": []
    },
    {
      "cell_type": "markdown",
      "source": [
        "### Final task\n",
        "Go through the notebook and see in what steps you calibrated your model. Which parameters did you finetune? What constraints did you use to tune them?"
      ],
      "metadata": {
        "id": "K4GWdAmRuC08"
      }
    },
    {
      "cell_type": "markdown",
      "metadata": {
        "id": "49zRCjJm4lIh"
      },
      "source": [
        "# + Isotopic Composition of the Sun"
      ]
    },
    {
      "cell_type": "markdown",
      "metadata": {
        "id": "XC0TB7oc4lIh"
      },
      "source": [
        "At the time the Sun forms in your model, when you fit the abundance of an element, do you also fit the isotopic distribution for that element?\n",
        "\n",
        "This is only if you have time.."
      ]
    },
    {
      "cell_type": "code",
      "execution_count": null,
      "metadata": {
        "collapsed": true,
        "jupyter": {
          "outputs_hidden": true
        },
        "id": "HcFDOcFk4lIh"
      },
      "outputs": [],
      "source": [
        "# If you are using Google Colab, you need the line below. If not, comment it out.\n",
        "!cp gdrive/My\\ Drive/Colab\\ Notebooks/Asplund_et_al_2009_iso.txt .\n",
        "\n",
        "# If you run it on your machine: don't forget to place the file\n",
        "# Asplund_et_al_2009_iso.txt into the folder of your notebook!\n",
        "\n",
        "# Extract the list of isotopes mass fraction for the Sun\n",
        "iso_A09_name = []\n",
        "iso_A09_f = []\n",
        "with open('Asplund_et_al_2009_iso.txt') as ff:\n",
        "    for line in ff:\n",
        "        line_split = [str(x) for x in line.split()]\n",
        "        iso_A09_name.append(line_split[0])\n",
        "        iso_A09_f.append(float(line_split[1])/100.0)\n",
        "ff.close()"
      ]
    },
    {
      "cell_type": "code",
      "execution_count": null,
      "metadata": {
        "jupyter": {
          "outputs_hidden": false
        },
        "id": "2GoktSRU4lIh"
      },
      "outputs": [],
      "source": [
        "# For each isotope in the Sun, this is the mass contribution to the total mass of the associated element.\n",
        "# For example, \"Ca-40 0.96941\" means that the Ca-40 isotope represent 96.941% of the mass of the Ca element.\n",
        "for i_iso in range(len(iso_A09_name)):\n",
        "    print(iso_A09_name[i_iso], iso_A09_f[i_iso])"
      ]
    },
    {
      "cell_type": "markdown",
      "source": [
        "### Task 7), optional: isotopic distribution\n",
        "\n",
        "Pick one element that you want to study. Compare its isotopic abundances to the solar composition. Can you reproduce it with your model? You should create plots similar to the ones above."
      ],
      "metadata": {
        "id": "Ymnl9cHdr9WV"
      }
    },
    {
      "cell_type": "code",
      "execution_count": null,
      "metadata": {
        "collapsed": true,
        "jupyter": {
          "outputs_hidden": true
        },
        "id": "giMo1L4I4lIh"
      },
      "outputs": [],
      "source": [
        "# Add your code and solution here."
      ]
    }
  ],
  "metadata": {
    "kernelspec": {
      "display_name": "Python 3",
      "name": "python3"
    },
    "language_info": {
      "codemirror_mode": {
        "name": "ipython",
        "version": 3
      },
      "file_extension": ".py",
      "mimetype": "text/x-python",
      "name": "python",
      "nbconvert_exporter": "python",
      "pygments_lexer": "ipython3",
      "version": "3.11.2"
    },
    "colab": {
      "provenance": []
    }
  },
  "nbformat": 4,
  "nbformat_minor": 0
}